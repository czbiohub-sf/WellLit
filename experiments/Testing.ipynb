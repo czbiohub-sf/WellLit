{
 "cells": [
  {
   "cell_type": "code",
   "execution_count": 44,
   "metadata": {},
   "outputs": [],
   "source": [
    "import csv, re\n",
    "import pandas as pd\n",
    "\n",
    "csv_name = 'dupes'\n",
    "\n",
    "df = pd.read_csv(csv_name + '.csv')"
   ]
  },
  {
   "cell_type": "code",
   "execution_count": 45,
   "metadata": {
    "scrolled": true
   },
   "outputs": [
    {
     "name": "stdout",
     "output_type": "stream",
     "text": [
      "Plate p2 has duplicates: \n",
      " SourceWell A2 is duplicated in rows [5, 6]\n",
      "\n",
      "Plate p3 has duplicates: \n",
      " SourceWell B5 is duplicated in rows [9, 10]\n",
      "SourceWell H1 is duplicated in rows [11, 12, 13]\n",
      "\n"
     ]
    }
   ],
   "source": [
    "\n",
    "plates = df['PlateName'].drop_duplicates().values\n",
    "\n",
    "hasDupes = False\n",
    "warning_message = []\n",
    "\n",
    "message = ''\n",
    "for plate in plates:\n",
    "    batch = df.where(df['PlateName'] == plate).dropna()\n",
    "    \n",
    "    dupes_mask = batch.duplicated(subset = 'SourceWell')\n",
    "    dupes = batch.where(dupes_mask).dropna()\n",
    "    duplicates = set(dupes['SourceWell'].values)\n",
    "    \n",
    "    if len(duplicates) == 0:\n",
    "        continue\n",
    "    else:\n",
    "        hasDupes = True\n",
    "    \n",
    "    message = 'Plate %s has duplicates: \\n ' % plate\n",
    "    for element in duplicates:\n",
    "        subset = batch.where(batch['SourceWell'] == element).dropna()\n",
    "        \n",
    "        indices = []\n",
    "        for index, row in subset.iterrows():\n",
    "            indices.append(index)\n",
    "        message = message + 'SourceWell %s is duplicated in rows %s' % (element, indices) + '\\n'\n",
    "    \n",
    "    warning_message.append(message)\n",
    "    \n",
    "for msg in warning_message:\n",
    "    print(msg)"
   ]
  },
  {
   "cell_type": "code",
   "execution_count": 34,
   "metadata": {},
   "outputs": [
    {
     "data": {
      "text/plain": [
       "Index(['PlateName', 'SourceWell', 'TargetWell'], dtype='object')"
      ]
     },
     "execution_count": 34,
     "metadata": {},
     "output_type": "execute_result"
    }
   ],
   "source": [
    "df.columns"
   ]
  },
  {
   "cell_type": "code",
   "execution_count": null,
   "metadata": {},
   "outputs": [],
   "source": []
  },
  {
   "cell_type": "code",
   "execution_count": 48,
   "metadata": {},
   "outputs": [],
   "source": [
    "class Transfer:\n",
    "    '''\n",
    "    Stores a list of plates with source-dest pairs\n",
    "    '''\n",
    "    def __init__(self, name):\n",
    "        self.df = pd.read_csv(name)\n",
    "    \n",
    "    def checkDuplicateDestination(self):\n",
    "        hasDupes = False\n",
    "        dupes_mask = self.df.duplicated(subset = 'TargetWell')\n",
    "        dupes = self.df.where(dupes_mask).dropna()\n",
    "        duplicates = set(dupes['TargetWell'].values)\n",
    "        \n",
    "        if len(duplicates)==0:\n",
    "            return hasDupes\n",
    "        else:\n",
    "            hasDupes = True\n",
    "        \n",
    "        for element in duplicates:\n",
    "            subset = self.df.where(df['TargetWell'] == element).dropna()\n",
    "\n",
    "            indices = []\n",
    "            for index, row in subset.iterrows():\n",
    "                indices.append(index)\n",
    "                target = row['TargetWell']\n",
    "            print('TargetWell %s is duplicated in rows %s' % (target, indices))\n",
    "        return hasDupes\n",
    "\n",
    "    def checkDuplicateSource(self):\n",
    "        plates = self.df['PlateName'].drop_duplicates().values\n",
    "\n",
    "        hasDupes = False\n",
    "        warning_message = []\n",
    "\n",
    "        message = ''\n",
    "        for plate in plates:\n",
    "            batch = self.df.where(df['PlateName'] == plate).dropna()\n",
    "\n",
    "            dupes_mask = batch.duplicated(subset = 'SourceWell')\n",
    "            dupes = batch.where(dupes_mask).dropna()\n",
    "            duplicates = set(dupes['SourceWell'].values)\n",
    "\n",
    "            if len(duplicates) == 0:\n",
    "                continue\n",
    "            else:\n",
    "                hasDupes = True\n",
    "\n",
    "            message = 'Plate %s has duplicates: \\n ' % plate\n",
    "            for element in duplicates:\n",
    "                subset = batch.where(batch['SourceWell'] == element).dropna()\n",
    "\n",
    "                indices = []\n",
    "                for index, row in subset.iterrows():\n",
    "                    indices.append(index)\n",
    "                message = message + 'SourceWell %s is duplicated in rows %s' % (element, indices) + '\\n'\n",
    "\n",
    "            warning_message.append(message)\n",
    "\n",
    "        for msg in warning_message:\n",
    "            print(msg)\n",
    "            \n",
    "        return hasDupes\n"
   ]
  },
  {
   "cell_type": "code",
   "execution_count": null,
   "metadata": {},
   "outputs": [],
   "source": []
  },
  {
   "cell_type": "code",
   "execution_count": null,
   "metadata": {},
   "outputs": [],
   "source": []
  },
  {
   "cell_type": "code",
   "execution_count": 54,
   "metadata": {},
   "outputs": [
    {
     "data": {
      "text/plain": [
       "['A1',\n",
       " 'B1',\n",
       " 'C1',\n",
       " 'D1',\n",
       " 'E1',\n",
       " 'F1',\n",
       " 'G1',\n",
       " 'H1',\n",
       " 'A2',\n",
       " 'B2',\n",
       " 'C2',\n",
       " 'D2',\n",
       " 'E2',\n",
       " 'F2',\n",
       " 'G2',\n",
       " 'H2',\n",
       " 'A3',\n",
       " 'B3',\n",
       " 'C3',\n",
       " 'D3',\n",
       " 'E3',\n",
       " 'F3',\n",
       " 'G3',\n",
       " 'H3',\n",
       " 'A4',\n",
       " 'B4',\n",
       " 'C4',\n",
       " 'D4',\n",
       " 'E4',\n",
       " 'F4',\n",
       " 'G4',\n",
       " 'H4',\n",
       " 'A5',\n",
       " 'B5',\n",
       " 'C5',\n",
       " 'D5',\n",
       " 'E5',\n",
       " 'F5',\n",
       " 'G5',\n",
       " 'H5',\n",
       " 'A6',\n",
       " 'B6',\n",
       " 'C6',\n",
       " 'D6',\n",
       " 'E6',\n",
       " 'F6',\n",
       " 'G6',\n",
       " 'H6',\n",
       " 'A7',\n",
       " 'B7',\n",
       " 'C7',\n",
       " 'D7',\n",
       " 'E7',\n",
       " 'F7',\n",
       " 'G7',\n",
       " 'H7',\n",
       " 'A8',\n",
       " 'B8',\n",
       " 'C8',\n",
       " 'D8',\n",
       " 'E8',\n",
       " 'F8',\n",
       " 'G8',\n",
       " 'H8',\n",
       " 'A9',\n",
       " 'B9',\n",
       " 'C9',\n",
       " 'D9',\n",
       " 'E9',\n",
       " 'F9',\n",
       " 'G9',\n",
       " 'H9',\n",
       " 'A10',\n",
       " 'B10',\n",
       " 'C10',\n",
       " 'D10',\n",
       " 'E10',\n",
       " 'F10',\n",
       " 'G10',\n",
       " 'H10',\n",
       " 'A11',\n",
       " 'B11',\n",
       " 'C11',\n",
       " 'D11',\n",
       " 'E11',\n",
       " 'F11',\n",
       " 'G11',\n",
       " 'H11',\n",
       " 'A12',\n",
       " 'B12',\n",
       " 'C12',\n",
       " 'D12',\n",
       " 'E12',\n",
       " 'F12',\n",
       " 'G12',\n",
       " 'H12']"
      ]
     },
     "execution_count": 54,
     "metadata": {},
     "output_type": "execute_result"
    }
   ],
   "source": [
    "well_rows = [chr(x) for x in range(ord('A'), ord('H') + 1)] # move to state machine\n",
    "# make a list of well names in column wise order \n",
    "well_names = []\n",
    "for i in range(1, 13):\n",
    "    for letter in well_rows:\n",
    "        well_names.append(letter+str(i))\n",
    "        \n",
    "well_names"
   ]
  },
  {
   "cell_type": "code",
   "execution_count": 49,
   "metadata": {},
   "outputs": [
    {
     "name": "stdout",
     "output_type": "stream",
     "text": [
      "TargetWell A2 is duplicated in rows [0, 1, 4]\n",
      "TargetWell D3 is duplicated in rows [8, 9]\n",
      "Plate p2 has duplicates: \n",
      " SourceWell A2 is duplicated in rows [5, 6]\n",
      "\n",
      "Plate p3 has duplicates: \n",
      " SourceWell B5 is duplicated in rows [9, 10]\n",
      "SourceWell H1 is duplicated in rows [11, 12, 13]\n",
      "\n"
     ]
    },
    {
     "data": {
      "text/plain": [
       "True"
      ]
     },
     "execution_count": 49,
     "metadata": {},
     "output_type": "execute_result"
    }
   ],
   "source": [
    "t = Transfer('dupes.csv')\n",
    "t.checkDuplicateDestination()\n",
    "t.checkDuplicateSource()"
   ]
  },
  {
   "cell_type": "code",
   "execution_count": 9,
   "metadata": {},
   "outputs": [],
   "source": [
    "p = [1, 2 ,3]\n",
    "d = [2, 3]\n",
    "\n",
    "a = zip(p,d)"
   ]
  },
  {
   "cell_type": "code",
   "execution_count": 15,
   "metadata": {},
   "outputs": [
    {
     "ename": "AttributeError",
     "evalue": "'list' object has no attribute 'unique'",
     "output_type": "error",
     "traceback": [
      "\u001b[1;31m---------------------------------------------------------------------------\u001b[0m",
      "\u001b[1;31mAttributeError\u001b[0m                            Traceback (most recent call last)",
      "\u001b[1;32m<ipython-input-15-0d04af735ac1>\u001b[0m in \u001b[0;36m<module>\u001b[1;34m\u001b[0m\n\u001b[1;32m----> 1\u001b[1;33m \u001b[0mp\u001b[0m\u001b[1;33m.\u001b[0m\u001b[0munique\u001b[0m\u001b[1;33m(\u001b[0m\u001b[1;33m)\u001b[0m\u001b[1;33m\u001b[0m\u001b[1;33m\u001b[0m\u001b[0m\n\u001b[0m",
      "\u001b[1;31mAttributeError\u001b[0m: 'list' object has no attribute 'unique'"
     ]
    }
   ],
   "source": []
  },
  {
   "cell_type": "code",
   "execution_count": 16,
   "metadata": {},
   "outputs": [
    {
     "data": {
      "text/plain": [
       "True"
      ]
     },
     "execution_count": 16,
     "metadata": {},
     "output_type": "execute_result"
    }
   ],
   "source": [
    "1 in p"
   ]
  },
  {
   "cell_type": "code",
   "execution_count": null,
   "metadata": {},
   "outputs": [],
   "source": []
  }
 ],
 "metadata": {
  "kernelspec": {
   "display_name": "Python 3",
   "language": "python",
   "name": "python3"
  },
  "language_info": {
   "codemirror_mode": {
    "name": "ipython",
    "version": 3
   },
   "file_extension": ".py",
   "mimetype": "text/x-python",
   "name": "python",
   "nbconvert_exporter": "python",
   "pygments_lexer": "ipython3",
   "version": "3.7.4"
  }
 },
 "nbformat": 4,
 "nbformat_minor": 2
}
