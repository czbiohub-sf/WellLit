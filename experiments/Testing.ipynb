{
 "cells": [
  {
   "cell_type": "code",
   "execution_count": 1,
   "metadata": {},
   "outputs": [],
   "source": [
    "import sys\n",
    "sys.path.append(\"..\")\n",
    "from plateLighting import Well, PlateLighting\n",
    "from Transfer import Transfer, TStatus, TransferProtocol\n",
    "from WellToWell import WelltoWell\n",
    "\n",
    "DEST = 'sample_plate-001' # dummy destination plate\n",
    "\n",
    "import logging\n",
    "\n",
    "logging.basicConfig(\n",
    "    level=logging.INFO,\n",
    "    format='%(asctime)s [%(levelname)s] - %(message)s',\n",
    "    filename='experimentLog.txt')  # pass explicit filename here\n",
    "logger = logging.getLogger()  # get the root logger\n",
    "logger.info('Log Started')"
   ]
  },
  {
   "cell_type": "code",
   "execution_count": 2,
   "metadata": {
    "scrolled": true
   },
   "outputs": [
    {
     "name": "stdout",
     "output_type": "stream",
     "text": [
      "CSV file good.csv loaded\n",
      "TransferProtocol with 14 transfers in 3 plates created\n"
     ]
    }
   ],
   "source": [
    "# Example usage\n",
    "\n",
    "csv_name = 'good.csv'\n",
    "\n",
    "wtw = WelltoWell()\n",
    "wtw.loadCsv(csv_name)"
   ]
  },
  {
   "cell_type": "code",
   "execution_count": 3,
   "metadata": {
    "scrolled": true
   },
   "outputs": [
    {
     "data": {
      "text/plain": [
       "['539d5500-be14-11ea-8820-3035adaf34ce',\n",
       " '539d5d48-be14-11ea-8820-3035adaf34ce',\n",
       " '539d6310-be14-11ea-8820-3035adaf34ce',\n",
       " '539d68a6-be14-11ea-8820-3035adaf34ce',\n",
       " '539d6f22-be14-11ea-8820-3035adaf34ce']"
      ]
     },
     "execution_count": 3,
     "metadata": {},
     "output_type": "execute_result"
    }
   ],
   "source": [
    "wtw.tp.transfers_by_plate[wtw.tp.current_plate_name]"
   ]
  },
  {
   "cell_type": "code",
   "execution_count": 41,
   "metadata": {},
   "outputs": [
    {
     "name": "stdout",
     "output_type": "stream",
     "text": [
      "transfer skipped: 539d8ade\n"
     ]
    }
   ],
   "source": [
    "wtw.tp.skip()"
   ]
  },
  {
   "cell_type": "code",
   "execution_count": 42,
   "metadata": {},
   "outputs": [
    {
     "name": "stdout",
     "output_type": "stream",
     "text": [
      "transfer failed: 539d90ce\n"
     ]
    }
   ],
   "source": [
    "wtw.tp.failed()"
   ]
  },
  {
   "cell_type": "code",
   "execution_count": 43,
   "metadata": {},
   "outputs": [
    {
     "name": "stdout",
     "output_type": "stream",
     "text": [
      "transfer complete: 539d9664\n"
     ]
    }
   ],
   "source": [
    "wtw.tp.complete()"
   ]
  },
  {
   "cell_type": "code",
   "execution_count": 44,
   "metadata": {},
   "outputs": [
    {
     "name": "stdout",
     "output_type": "stream",
     "text": [
      "transfer complete: 539da104\n"
     ]
    }
   ],
   "source": [
    "wtw.tp.complete()"
   ]
  },
  {
   "cell_type": "code",
   "execution_count": 45,
   "metadata": {},
   "outputs": [
    {
     "name": "stdout",
     "output_type": "stream",
     "text": [
      "transfer complete: 539dbedc\n"
     ]
    }
   ],
   "source": [
    "wtw.tp.complete()"
   ]
  },
  {
   "cell_type": "code",
   "execution_count": 46,
   "metadata": {},
   "outputs": [
    {
     "name": "stdout",
     "output_type": "stream",
     "text": [
      "Warning: Plate p2 not yet complete\n"
     ]
    }
   ],
   "source": [
    "wtw.tp.nextPlate()"
   ]
  },
  {
   "cell_type": "code",
   "execution_count": 53,
   "metadata": {},
   "outputs": [
    {
     "data": {
      "text/plain": [
       "1"
      ]
     },
     "execution_count": 53,
     "metadata": {},
     "output_type": "execute_result"
    }
   ],
   "source": [
    "wtw.tp.current_plate"
   ]
  },
  {
   "cell_type": "code",
   "execution_count": 16,
   "metadata": {},
   "outputs": [
    {
     "name": "stdout",
     "output_type": "stream",
     "text": [
      "transfer marked incomplete: 03c22106\n"
     ]
    }
   ],
   "source": [
    "wtw.tp.undo()"
   ]
  },
  {
   "cell_type": "code",
   "execution_count": 18,
   "metadata": {},
   "outputs": [
    {
     "name": "stdout",
     "output_type": "stream",
     "text": [
      "None\n"
     ]
    }
   ],
   "source": [
    "print(wtw.tp.transfers[wtw.tp.tf_seq[wtw.tp.current_idx]]['timestamp'])"
   ]
  },
  {
   "cell_type": "code",
   "execution_count": 19,
   "metadata": {},
   "outputs": [
    {
     "name": "stdout",
     "output_type": "stream",
     "text": [
      "{'source_plate': 'p1', 'source_well': 'A2', 'dest_plate': 'destination-plate', 'dest_well': 'A1', 'status': 'skipped', 'timestamp': '2020-07-04 16:35:10.064'}\n",
      "{'source_plate': 'p1', 'source_well': 'A3', 'dest_plate': 'destination-plate', 'dest_well': 'A2', 'status': 'failed', 'timestamp': '2020-07-04 16:35:10.079'}\n",
      "{'source_plate': 'p1', 'source_well': 'A4', 'dest_plate': 'destination-plate', 'dest_well': 'A4', 'status': 'completed', 'timestamp': '2020-07-04 16:35:10.095'}\n",
      "{'source_plate': 'p1', 'source_well': 'A5', 'dest_plate': 'destination-plate', 'dest_well': 'A6', 'status': 'completed', 'timestamp': '2020-07-04 16:35:10.115'}\n",
      "{'source_plate': 'p1', 'source_well': 'A6', 'dest_plate': 'destination-plate', 'dest_well': 'D6', 'status': 'completed', 'timestamp': '2020-07-04 16:35:19.548'}\n",
      "{'source_plate': 'p2', 'source_well': 'A2', 'dest_plate': 'destination-plate', 'dest_well': 'D4', 'status': 'uncompleted', 'timestamp': None}\n",
      "{'source_plate': 'p2', 'source_well': 'A3', 'dest_plate': 'destination-plate', 'dest_well': 'D7', 'status': 'uncompleted', 'timestamp': None}\n",
      "{'source_plate': 'p2', 'source_well': 'A4', 'dest_plate': 'destination-plate', 'dest_well': 'D8', 'status': 'uncompleted', 'timestamp': None}\n",
      "{'source_plate': 'p2', 'source_well': 'A5', 'dest_plate': 'destination-plate', 'dest_well': 'D9', 'status': 'uncompleted', 'timestamp': None}\n",
      "{'source_plate': 'p3', 'source_well': 'B6', 'dest_plate': 'destination-plate', 'dest_well': 'D10', 'status': 'uncompleted', 'timestamp': None}\n",
      "{'source_plate': 'p3', 'source_well': 'B5', 'dest_plate': 'destination-plate', 'dest_well': 'B3', 'status': 'uncompleted', 'timestamp': None}\n",
      "{'source_plate': 'p3', 'source_well': 'H1', 'dest_plate': 'destination-plate', 'dest_well': 'B12', 'status': 'uncompleted', 'timestamp': None}\n",
      "{'source_plate': 'p3', 'source_well': 'H2', 'dest_plate': 'destination-plate', 'dest_well': 'B10', 'status': 'uncompleted', 'timestamp': None}\n",
      "{'source_plate': 'p3', 'source_well': 'H3', 'dest_plate': 'destination-plate', 'dest_well': 'B9', 'status': 'uncompleted', 'timestamp': None}\n"
     ]
    }
   ],
   "source": [
    "[tf['source_well'] for wtw.tp.transfers[tf_id] for ]"
   ]
  },
  {
   "cell_type": "code",
   "execution_count": 40,
   "metadata": {},
   "outputs": [
    {
     "data": {
      "text/plain": [
       "['A3', 'A4', 'A5', 'A2']"
      ]
     },
     "execution_count": 40,
     "metadata": {},
     "output_type": "execute_result"
    }
   ],
   "source": [
    "# get source well for uncomplete transfers in current plate\n",
    "# intersect uncomplete with current plate\n",
    "\n",
    "\n",
    "\n",
    "[wtw.tp.transfers[tf_id]['source_well'] for tf_id in list(set(wtw.tp.lists['uncompleted']) & set(wtw.tp.transfers_by_plate[wtw.tp.current_plate_name]))]\n"
   ]
  },
  {
   "cell_type": "code",
   "execution_count": 32,
   "metadata": {},
   "outputs": [
    {
     "ename": "SyntaxError",
     "evalue": "invalid syntax (<ipython-input-32-aad1a2aacb83>, line 9)",
     "output_type": "error",
     "traceback": [
      "\u001b[0;36m  File \u001b[0;32m\"<ipython-input-32-aad1a2aacb83>\"\u001b[0;36m, line \u001b[0;32m9\u001b[0m\n\u001b[0;31m    a = [wtw.tp.transfers[tf_id]['source_well'] if wtw.tp.transfers[tf_id]['source_plate'] == wtw.tp.current_plate_name for tf_id in wtw.tp.lists['uncompleted']]\u001b[0m\n\u001b[0m                                                                                                                          ^\u001b[0m\n\u001b[0;31mSyntaxError\u001b[0m\u001b[0;31m:\u001b[0m invalid syntax\n"
     ]
    }
   ],
   "source": [
    "# color all markers as empty if they are completed and in the source plate\n",
    "\n",
    "for tf_id in wtw.tp.lists['uncompleted']:\n",
    "    if wtw.tp.transfers[tf_id]['source_plate'] == wtw.tp.current_plate_name:\n",
    "        print(wtw.tp.transfers[tf_id]['source_well'])\n",
    "        \n",
    "# as a list comp:\n",
    "\n",
    "a = [wtw.tp.transfers[tf_id]['source_well'] if wtw.tp.transfers[tf_id]['source_plate'] == wtw.tp.current_plate_name for tf_id in wtw.tp.lists['uncompleted']]"
   ]
  },
  {
   "cell_type": "code",
   "execution_count": null,
   "metadata": {},
   "outputs": [],
   "source": [
    "wtw.tp.complete()"
   ]
  },
  {
   "cell_type": "code",
   "execution_count": 33,
   "metadata": {},
   "outputs": [
    {
     "name": "stdout",
     "output_type": "stream",
     "text": [
      "10\n",
      "5\n",
      "4\n"
     ]
    }
   ],
   "source": [
    "print(wtw.tp.current_idx)\n",
    "print(wtw.tp.current_idx_plate)\n",
    "print(wtw.tp.plate_sizes[wtw.tp.current_plate_name])"
   ]
  },
  {
   "cell_type": "code",
   "execution_count": null,
   "metadata": {},
   "outputs": [],
   "source": [
    "wtw.tp.transfers[wtw.tp.tf_seq[wtw.tp.current_idx]]\n",
    "\n"
   ]
  },
  {
   "cell_type": "code",
   "execution_count": null,
   "metadata": {},
   "outputs": [],
   "source": [
    "import matplotlib.pyplot as plt\n",
    "\n",
    "a1_x = 0.1\n",
    "a1_y = 0.2\n",
    "shape = 'circle'\n",
    "radius = 0.035\n",
    "side_length = 0.054\n",
    "well_spacing = 0.08\n",
    "size_param = {}\n",
    "size_param['circle'] = radius\n",
    "size_param['square'] = side_length\n",
    "matplotlib.rcParams['figure.figsize'] = (6.0, 4)\n",
    "\n",
    "pl = PlateLighting(a1_x, a1_y, shape, size_param, well_spacing)"
   ]
  },
  {
   "cell_type": "code",
   "execution_count": null,
   "metadata": {},
   "outputs": [],
   "source": [
    "pl.setTarget('A1')\n",
    "pl.setFilled('B4')\n",
    "pl.fig"
   ]
  },
  {
   "cell_type": "code",
   "execution_count": null,
   "metadata": {},
   "outputs": [],
   "source": [
    "pl.emptyWells()\n",
    "pl.fig"
   ]
  },
  {
   "cell_type": "code",
   "execution_count": null,
   "metadata": {},
   "outputs": [],
   "source": [
    "def makeWells():\n",
    "    well_rows = [chr(x) for x in range(ord('A'), ord('H') + 1)]\n",
    "    well_nums = [x for x in range(1,13)]\n",
    "\n",
    "    well_list = []\n",
    "    well_dict = {}\n",
    "    for idx_r, row in enumerate(well_rows):\n",
    "        for idx_n, num in enumerate(well_nums):\n",
    "\n",
    "            well_name = row + str(num)\n",
    "            well_list.append(well_name)\n",
    "            x_coord = a1_x + well_spacing * idx_r\n",
    "            y_coord = a1_y + well_spacing * idx_n\n",
    "\n",
    "            well_dict[well_name] = Well((x_coord, y_coord),\n",
    "                                             shape, radius)\n",
    "    return well_dict, well_list\n",
    "\n",
    "wd, wl = makeWells()\n",
    "\n",
    "wd['A1'].marker"
   ]
  },
  {
   "cell_type": "code",
   "execution_count": null,
   "metadata": {},
   "outputs": [],
   "source": [
    "well_rows = [chr(x) for x in range(ord('A'), ord('H') + 1)] # move to state machine\n",
    "# make a list of well names in column wise order \n",
    "well_names = []\n",
    "for i in range(1, 13):\n",
    "    for letter in well_rows:\n",
    "        well_names.append(letter+str(i))\n"
   ]
  },
  {
   "cell_type": "code",
   "execution_count": null,
   "metadata": {},
   "outputs": [],
   "source": [
    "import numpy as np\n",
    "\n",
    "mn = np.asarray(well_names)\n",
    "data = np.sort(mn)\n"
   ]
  },
  {
   "cell_type": "code",
   "execution_count": null,
   "metadata": {},
   "outputs": [],
   "source": [
    "data.reshape((8,12))\n",
    "data.sort(axis=1, order='Alphanumeric')"
   ]
  },
  {
   "cell_type": "code",
   "execution_count": null,
   "metadata": {},
   "outputs": [],
   "source": [
    "well_rows = [chr(x) for x in range(ord('A'), ord('H') + 1)]\n",
    "well_nums = [x for x in range(1,13)]"
   ]
  },
  {
   "cell_type": "code",
   "execution_count": null,
   "metadata": {},
   "outputs": [],
   "source": [
    "t = Transfer('dupes.csv')\n",
    "t.checkDuplicateDestination()\n",
    "t.checkDuplicateSource()"
   ]
  },
  {
   "cell_type": "code",
   "execution_count": null,
   "metadata": {},
   "outputs": [],
   "source": [
    "p = [1, 2 ,3]\n",
    "d = [2, 3]\n",
    "\n",
    "a = zip(p,d)"
   ]
  },
  {
   "cell_type": "code",
   "execution_count": null,
   "metadata": {},
   "outputs": [],
   "source": []
  },
  {
   "cell_type": "code",
   "execution_count": null,
   "metadata": {},
   "outputs": [],
   "source": [
    "1 in p"
   ]
  },
  {
   "cell_type": "code",
   "execution_count": null,
   "metadata": {},
   "outputs": [],
   "source": []
  }
 ],
 "metadata": {
  "kernelspec": {
   "display_name": "Python 3",
   "language": "python",
   "name": "python3"
  },
  "language_info": {
   "codemirror_mode": {
    "name": "ipython",
    "version": 3
   },
   "file_extension": ".py",
   "mimetype": "text/x-python",
   "name": "python",
   "nbconvert_exporter": "python",
   "pygments_lexer": "ipython3",
   "version": "3.7.4"
  }
 },
 "nbformat": 4,
 "nbformat_minor": 2
}
